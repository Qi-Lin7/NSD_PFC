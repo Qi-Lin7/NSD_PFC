{
 "cells": [
  {
   "cell_type": "code",
   "execution_count": 8,
   "id": "6e633200-a740-4902-b348-aceb66e32cbc",
   "metadata": {},
   "outputs": [],
   "source": [
    "import os, sys, glob, pickle, configparser\n",
    "import numpy as np\n",
    "import nibabel as nib\n",
    "import matplotlib.pyplot as plt\n",
    "import pandas as pd\n",
    "exp_config = configparser.ConfigParser()\n",
    "exp_config.read('../config')\n",
    "\n",
    "\n",
    "# Set the directories\n",
    "NSD_top_dir = exp_config['DIR']['NSD_top_dir']\n",
    "\n",
    "sys.path.append(os.path.join(NSD_top_dir,\n",
    "                             'Scripts',\n",
    "                             'nsdcode',\n",
    "                             'nsdcode'))\n",
    "\n",
    "from nsd_mapdata import NSDmapdata\n",
    "from nsd_datalocation import nsd_datalocation"
   ]
  },
  {
   "cell_type": "code",
   "execution_count": 9,
   "id": "89b28307-8089-4607-8377-e03ab5cd6ec7",
   "metadata": {},
   "outputs": [],
   "source": [
    "# initiate NSDmapdata\n",
    "base_path = os.path.join(NSD_top_dir, 'data')\n",
    "nsd = NSDmapdata(base_path)\n",
    "\n",
    "nsd_dir = nsd_datalocation(base_path=base_path)\n",
    "nsd_betas = nsd_datalocation(base_path=base_path, dir0='betas')\n",
    "timeseries_vol_dir = os.path.join(base_path,'nsddata_timeseries','ppdata')\n",
    "output_dir = os.path.join(NSD_top_dir, 'intermediate', 'resting_state')\n",
    "anat_mask_dir =  os.path.join(NSD_top_dir, 'intermediate', 'masks', 'anat_masks')\n"
   ]
  },
  {
   "cell_type": "code",
   "execution_count": 10,
   "id": "5363a310-e6e5-4264-bb81-d7c9e20738a4",
   "metadata": {},
   "outputs": [],
   "source": [
    "# Check motion\n",
    "motion_summary = pd.DataFrame(columns=['SUB','SESSION','RUN', 'file name',\n",
    "                                       'mean FD', 'max FD', \n",
    "                                       'max trans', 'max rot',\n",
    "                                      'outliers'])\n",
    "for subjix in range(1, 9):\n",
    "    curr_sub_vol_dir = os.path.join(timeseries_vol_dir, 'subj0{}'.format(subjix),'func1pt8mm','timeseries')\n",
    "    file_list = [os.path.basename(k) for k in glob.glob(os.path.join(curr_sub_vol_dir,'*run01.nii.gz'))]\n",
    "    \n",
    "    for curr_file in file_list:\n",
    "        curr_ses = curr_file.split('_')[1][-2:]\n",
    "        curr_run = curr_file.split('_')[2].split('.')[0][3:]\n",
    "        curr_motion_file = os.path.join(timeseries_vol_dir, 'subj0{}'.format(subjix),\n",
    "                                   'func1pt8mm','motion','motion_{}_{}.tsv'.format(curr_file.split('_')[1],\n",
    "                                                                               curr_file.split('_')[2].split('.')[0]))\n",
    "        curr_motion_df = pd.read_csv(curr_motion_file,\n",
    "                                    header=None, sep='\\t',\n",
    "                                    names=['trans_AP',\n",
    "                                          'trans_LR',\n",
    "                                          'trans_SI',\n",
    "                                          'roll',\n",
    "                                          'pitch',\n",
    "                                          'yaw'])\n",
    "        diff_df = curr_motion_df.diff()\n",
    "        # Calculate FD\n",
    "        motion_deriv = curr_motion_df.diff().iloc[1:]\n",
    "        for curr_measure in ['roll', 'pitch', 'yaw']:\n",
    "            motion_deriv['{}_mm'.format(curr_measure)] = motion_deriv[curr_measure]*50\n",
    "        motion_deriv['FD']=abs(motion_deriv['trans_AP']) + abs(motion_deriv['trans_LR']) + abs(motion_deriv['trans_SI']) + abs(motion_deriv['roll_mm']) + abs(motion_deriv['pitch_mm']) + abs(motion_deriv['yaw_mm'])\n",
    "        \n",
    "        motion_summary.loc[len(motion_summary)] = {'SUB':subjix,\n",
    "                                                   'SESSION':curr_ses,\n",
    "                                                   'RUN':curr_run, \n",
    "                                                   'file name':curr_file,\n",
    "                                                   'mean FD':motion_deriv['FD'].mean(), \n",
    "                                                   'max FD':motion_deriv['FD'].max(), \n",
    "                                                   'max trans':np.max(abs(curr_motion_df[['trans_AP','trans_LR','trans_SI']].values)), \n",
    "                                                   'max rot':np.max(abs(curr_motion_df[['roll','pitch','yaw']].values))*180/np.pi,\n",
    "                                                  'outliers':np.sum(motion_deriv['FD']>0.25)}\n",
    "        "
   ]
  },
  {
   "cell_type": "code",
   "execution_count": 11,
   "id": "9e41ceb3-c70e-4547-885a-6deb4a6eb73e",
   "metadata": {},
   "outputs": [],
   "source": [
    "motion_filtered = motion_summary[(motion_summary['mean FD']<=0.15) & (motion_summary['max FD']<=2) & (motion_summary['max trans']<=2) & (motion_summary['max rot']<=3)].reset_index(drop=True)"
   ]
  },
  {
   "cell_type": "code",
   "execution_count": 12,
   "id": "793e16e2-df2f-43f4-9faf-c285ce966e01",
   "metadata": {},
   "outputs": [
    {
     "data": {
      "text/html": [
       "<div>\n",
       "<style scoped>\n",
       "    .dataframe tbody tr th:only-of-type {\n",
       "        vertical-align: middle;\n",
       "    }\n",
       "\n",
       "    .dataframe tbody tr th {\n",
       "        vertical-align: top;\n",
       "    }\n",
       "\n",
       "    .dataframe thead th {\n",
       "        text-align: right;\n",
       "    }\n",
       "</style>\n",
       "<table border=\"1\" class=\"dataframe\">\n",
       "  <thead>\n",
       "    <tr style=\"text-align: right;\">\n",
       "      <th></th>\n",
       "      <th>SUB</th>\n",
       "      <th>SESSION</th>\n",
       "    </tr>\n",
       "  </thead>\n",
       "  <tbody>\n",
       "    <tr>\n",
       "      <th>0</th>\n",
       "      <td>1</td>\n",
       "      <td>18</td>\n",
       "    </tr>\n",
       "    <tr>\n",
       "      <th>1</th>\n",
       "      <td>2</td>\n",
       "      <td>8</td>\n",
       "    </tr>\n",
       "    <tr>\n",
       "      <th>2</th>\n",
       "      <td>3</td>\n",
       "      <td>5</td>\n",
       "    </tr>\n",
       "    <tr>\n",
       "      <th>3</th>\n",
       "      <td>4</td>\n",
       "      <td>9</td>\n",
       "    </tr>\n",
       "    <tr>\n",
       "      <th>4</th>\n",
       "      <td>5</td>\n",
       "      <td>10</td>\n",
       "    </tr>\n",
       "    <tr>\n",
       "      <th>5</th>\n",
       "      <td>6</td>\n",
       "      <td>10</td>\n",
       "    </tr>\n",
       "    <tr>\n",
       "      <th>6</th>\n",
       "      <td>7</td>\n",
       "      <td>10</td>\n",
       "    </tr>\n",
       "    <tr>\n",
       "      <th>7</th>\n",
       "      <td>8</td>\n",
       "      <td>8</td>\n",
       "    </tr>\n",
       "  </tbody>\n",
       "</table>\n",
       "</div>"
      ],
      "text/plain": [
       "   SUB  SESSION\n",
       "0    1       18\n",
       "1    2        8\n",
       "2    3        5\n",
       "3    4        9\n",
       "4    5       10\n",
       "5    6       10\n",
       "6    7       10\n",
       "7    8        8"
      ]
     },
     "execution_count": 12,
     "metadata": {},
     "output_type": "execute_result"
    }
   ],
   "source": [
    "motion_filtered.groupby('SUB')['SESSION'].count().reset_index()\n"
   ]
  },
  {
   "cell_type": "code",
   "execution_count": 14,
   "id": "e10792bc-5fe7-4628-a1fa-427aa17b223b",
   "metadata": {},
   "outputs": [],
   "source": [
    "motion_filtered.to_csv(os.path.join(NSD_top_dir, 'results', 'motion_filtered.csv'))"
   ]
  }
 ],
 "metadata": {
  "kernelspec": {
   "display_name": "Python 3 (ipykernel)",
   "language": "python",
   "name": "python3"
  },
  "language_info": {
   "codemirror_mode": {
    "name": "ipython",
    "version": 3
   },
   "file_extension": ".py",
   "mimetype": "text/x-python",
   "name": "python",
   "nbconvert_exporter": "python",
   "pygments_lexer": "ipython3",
   "version": "3.7.12"
  }
 },
 "nbformat": 4,
 "nbformat_minor": 5
}
