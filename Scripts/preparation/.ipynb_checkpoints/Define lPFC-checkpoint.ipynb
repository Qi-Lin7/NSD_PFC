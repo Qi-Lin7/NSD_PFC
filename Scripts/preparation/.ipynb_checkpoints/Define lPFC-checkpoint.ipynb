{
 "cells": [
  {
   "cell_type": "code",
   "execution_count": 1,
   "id": "c65a117b-0bcf-4bf5-867d-b4db876f6ddd",
   "metadata": {},
   "outputs": [],
   "source": [
    "import os, sys, glob, pickle, configparser\n",
    "import numpy as np\n",
    "import nibabel as nib\n",
    "import matplotlib.pyplot as plt\n",
    "import pandas as pd\n",
    "exp_config = configparser.ConfigParser()\n",
    "exp_config.read('../config')\n",
    "\n",
    "# Set the directories\n",
    "NSD_top_dir = exp_config['DIR']['NSD_top_dir']\n",
    "FS_top_dir = os.path.join(NSD_top_dir, 'data', 'nsddata', 'freesurfer')\n",
    "mask_output_dir =  os.path.join(NSD_top_dir, \n",
    "                                'intermediate', \n",
    "                                'masks', \n",
    "                                'HCP_MMP_ROIs')\n",
    "sub_list = range(1, 9)"
   ]
  },
  {
   "cell_type": "code",
   "execution_count": 2,
   "id": "22fa6cab-c099-4162-9467-9a09d218a2f2",
   "metadata": {},
   "outputs": [],
   "source": [
    "list_rois = [10, 11, 12] + list(range(67, 91)) + [96, 97, 98] +[170, 171]"
   ]
  },
  {
   "cell_type": "code",
   "execution_count": 3,
   "id": "53c35702-c190-4591-b20d-dc32839a75e3",
   "metadata": {},
   "outputs": [],
   "source": [
    "for curr_sub in sub_list:\n",
    "    native_dir = os.path.join(FS_top_dir,\n",
    "                                   'subj0{}'.format(curr_sub))\n",
    "    HCP_MMP_rois_label = pd.read_csv(os.path.join(native_dir,\n",
    "                                             'label',\n",
    "                                             'HCP_MMP1.mgz.ctab'),\n",
    "                                sep=' ', skiprows=1,\n",
    "                                 names=['index', 'label'])\n",
    "    list_rois_names = [HCP_MMP_rois_label['label'].values[k-1] for k in list_rois]\n",
    "    \n",
    "    lh_HCP_MMP_dir = os.path.join(native_dir,\n",
    "                         'label',\n",
    "                         'lh.HCP_MMP1.mgz')\n",
    "    lh_HCP_MMP = nib.load(lh_HCP_MMP_dir).get_fdata().squeeze()\n",
    "    lh_mask = np.isin(lh_HCP_MMP, MPC_num_roi)\n",
    "    \n",
    "    rh_HCP_MMP_dir = os.path.join(native_dir,\n",
    "                         'label',\n",
    "                         'rh.HCP_MMP1.mgz')\n",
    "    rh_HCP_MMP = nib.load(rh_HCP_MMP_dir).get_fdata().squeeze()\n",
    "    rh_mask = np.isin(rh_HCP_MMP, MPC_num_roi)\n",
    "    \n",
    "    print(np.sum(lh_mask) + np.sum(rh_mask))\n",
    "    \n",
    "    \n",
    "    np.save(os.path.join(mask_output_dir, 'lh.lPFC.sub0{}.npy'.format(curr_sub)), lh_mask)\n",
    "    np.save(os.path.join(mask_output_dir, 'rh.lPFC.sub0{}.npy'.format(curr_sub)), rh_mask)\n",
    "\n",
    "    # Save them ask freesurfer files\n",
    "    mask = lh_mask.astype(int)\n",
    "    ctab = np.array([[25, 25, 25, 0], [255, 255, 255, 255]])\n",
    "    names = ['background', 'mask']\n",
    "\n",
    "    nib.freesurfer.write_annot(os.path.join(mask_output_dir, 'lh.lPFC.sub0{}.annot'.format(curr_sub)), labels=mask, ctab=ctab, names=names)\n",
    "\n",
    "    mask = rh_mask.astype(int)\n",
    "    ctab = np.array([[25, 25, 25, 0], [255, 255, 255, 255]])\n",
    "    names = ['background', 'mask']\n",
    "\n",
    "    nib.freesurfer.write_annot(os.path.join(mask_output_dir, 'rh.lPFC.sub0{}.annot'.format(curr_sub)), labels=mask, ctab=ctab, names=names)"
   ]
  },
  {
   "cell_type": "code",
   "execution_count": null,
   "id": "f90b9355-98f0-41b2-93f2-4eac3f0a79fd",
   "metadata": {},
   "outputs": [],
   "source": []
  }
 ],
 "metadata": {
  "kernelspec": {
   "display_name": "Python 3 (ipykernel)",
   "language": "python",
   "name": "python3"
  },
  "language_info": {
   "codemirror_mode": {
    "name": "ipython",
    "version": 3
   },
   "file_extension": ".py",
   "mimetype": "text/x-python",
   "name": "python",
   "nbconvert_exporter": "python",
   "pygments_lexer": "ipython3",
   "version": "3.7.12"
  }
 },
 "nbformat": 4,
 "nbformat_minor": 5
}
