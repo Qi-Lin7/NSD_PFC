{
 "cells": [
  {
   "cell_type": "code",
   "execution_count": 1,
   "id": "6a67019b-685e-45ba-b3f1-1295a9855a2f",
   "metadata": {},
   "outputs": [],
   "source": [
    "import pandas as pd\n",
    "import numpy as np\n",
    "import scipy.io as sio\n",
    "import os, time, h5py, sys\n",
    "import pickle\n"
   ]
  },
  {
   "cell_type": "code",
   "execution_count": 2,
   "id": "a97a6a0f-5f40-4852-b312-3fb125cdbcc3",
   "metadata": {},
   "outputs": [],
   "source": [
    "def load_sub_resp_df(sub, top_dir):\n",
    "    \"\"\"\n",
    "\n",
    "    :param sub:\n",
    "    :param top_dir:\n",
    "    :return:\n",
    "    \"\"\"\n",
    "    resp_dir = os.path.join(top_dir,\n",
    "                            'nsddata',\n",
    "                            'ppdata',\n",
    "                            'subj0{}'.format(sub),\n",
    "                            'behav',\n",
    "                            'responses.tsv')\n",
    "    resp_df = pd.read_csv(resp_dir,\n",
    "                          sep='\\t')\n",
    "    return resp_df\n",
    "\n"
   ]
  },
  {
   "cell_type": "code",
   "execution_count": 5,
   "id": "b5f5b136-1137-4d6c-bf17-e9c40b55d870",
   "metadata": {},
   "outputs": [
    {
     "name": "stdout",
     "output_type": "stream",
     "text": [
      "9000\n",
      "1000\n",
      "9000\n",
      "1000\n",
      "8481\n",
      "930\n",
      "8302\n",
      "907\n",
      "9000\n",
      "1000\n",
      "8481\n",
      "930\n",
      "9000\n",
      "1000\n",
      "8302\n",
      "907\n"
     ]
    }
   ],
   "source": [
    "# Set the directories\n",
    "NSD_top_dir = '/home/qilin1/Projects/NSD_GenPFC/data'\n",
    "stimuli_dir = os.path.join(NSD_top_dir,\n",
    "                          'nsddata_stimuli',\n",
    "                          'stimuli',\n",
    "                          'nsd',\n",
    "                          'nsd_stimuli.hdf5')\n",
    "output_dir = '/home/qilin1/Projects/NSD_GenPFC/intermediate/features'\n",
    "\n",
    "# Load stimuli info\n",
    "exp_design = sio.loadmat(os.path.join(NSD_top_dir,\n",
    "                                     'nsddata',\n",
    "                                     'experiments',\n",
    "                                     'nsd',\n",
    "                                     'nsd_expdesign.mat'))\n",
    "shared_imgs = exp_design['sharedix'][0]\n",
    "sub_list = range(1, 9)\n",
    "for curr_sub in sub_list:\n",
    "\n",
    "    curr_sub_df = load_sub_resp_df(curr_sub, NSD_top_dir)\n",
    "    shared_imgs_list = curr_sub_df[curr_sub_df['73KID'].isin(shared_imgs)]['73KID'].unique()\n",
    "\n",
    "    unique_sessions = list(curr_sub_df['SESSION'].unique())\n",
    "    unique_sessions.sort()\n",
    "    curr_sub_df_filtered = curr_sub_df[curr_sub_df['SESSION'].isin(unique_sessions)]\n",
    "    unique_imgs_list = curr_sub_df_filtered[~curr_sub_df_filtered['73KID'].isin(shared_imgs)]['73KID'].unique()\n",
    "    unique_imgs_list.sort()\n",
    "    print(len(unique_imgs_list))\n",
    "    np.save(os.path.join(output_dir, 'sub0{}_unique_img_order.npy'.format(curr_sub)),\n",
    "                        unique_imgs_list)\n",
    "    shared_imgs_list = curr_sub_df_filtered[curr_sub_df_filtered['73KID'].isin(shared_imgs)]['73KID'].unique()\n",
    "    shared_imgs_list.sort()\n",
    "    print(len(shared_imgs_list))\n",
    "    np.save(os.path.join(output_dir, 'sub0{}_share_img_order.npy'.format(curr_sub)),\n",
    "                        shared_imgs_list)"
   ]
  },
  {
   "cell_type": "code",
   "execution_count": null,
   "id": "a58b69bf-6c79-4cd4-9dd9-15939fab8a8b",
   "metadata": {},
   "outputs": [],
   "source": []
  }
 ],
 "metadata": {
  "kernelspec": {
   "display_name": "Python 3 (ipykernel)",
   "language": "python",
   "name": "python3"
  },
  "language_info": {
   "codemirror_mode": {
    "name": "ipython",
    "version": 3
   },
   "file_extension": ".py",
   "mimetype": "text/x-python",
   "name": "python",
   "nbconvert_exporter": "python",
   "pygments_lexer": "ipython3",
   "version": "3.7.13"
  }
 },
 "nbformat": 4,
 "nbformat_minor": 5
}
