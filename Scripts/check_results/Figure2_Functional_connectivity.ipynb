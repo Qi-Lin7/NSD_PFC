{
 "cells": [
  {
   "cell_type": "code",
   "execution_count": 1,
   "id": "0b796983-d7dd-4d42-aef1-e057d2d78e64",
   "metadata": {},
   "outputs": [],
   "source": [
    "import random\n",
    "import pandas as pd\n",
    "import numpy as np\n",
    "from brainiak.fcma.util import compute_correlation\n",
    "import os, pickle, glob, configparser\n",
    "import seaborn as sns\n",
    "import matplotlib.pyplot as plt\n",
    "from scipy import stats\n",
    "import nibabel as nib\n",
    "from nilearn import plotting, surface\n",
    "import nibabel as nib\n",
    "\n",
    "\n",
    "\n",
    "sub_list = range(1,9)\n",
    "exp_config = configparser.ConfigParser()\n",
    "exp_config.read('../config')\n",
    "\n",
    "\n",
    "# Set the directories\n",
    "NSD_top_dir = exp_config['DIR']['NSD_top_dir']\n",
    "vis_mask_dir = os.path.join(NSD_top_dir, \n",
    "                            'intermediate', \n",
    "                            'masks', \n",
    "                            'grouped_visual_ROIs')\n",
    "rs_dir = os.path.join(NSD_top_dir, \n",
    "                            'intermediate', \n",
    "                            'resting_state')\n",
    "mask_output_dir = os.path.join(NSD_top_dir, \n",
    "                               'intermediate',\n",
    "                               'masks', \n",
    "                               'HCP_MMP_ROIs')"
   ]
  },
  {
   "cell_type": "code",
   "execution_count": 2,
   "id": "e7d1e74f-9f61-4d21-bc4f-8d4658a3c74c",
   "metadata": {
    "tags": []
   },
   "outputs": [
    {
     "name": "stdout",
     "output_type": "stream",
     "text": [
      "68\n",
      "68\n",
      "68\n",
      "68\n",
      "68\n",
      "68\n",
      "68\n",
      "68\n"
     ]
    }
   ],
   "source": [
    "all_subs_mean_conn = []\n",
    "all_subs_mean_conn_norm = []\n",
    "verts_labels = []\n",
    "\n",
    "sub_lookup = []\n",
    "hemi_labels = []\n",
    "\n",
    "\n",
    "for curr_sub in sub_list:\n",
    "    lh_file_list = glob.glob(os.path.join(rs_dir,\n",
    "                                        'subj0{}'.format(curr_sub),\n",
    "                                       'lh.*_run1.npy'))\n",
    "    sampled_ses = [k.split('session')[1][:2] for k in lh_file_list]\n",
    "\n",
    "    visual_rois = pickle.load(open(os.path.join(vis_mask_dir, 'sub0{}.visualROIs'.format(curr_sub)), 'rb'))\n",
    "    print(len(visual_rois))\n",
    "    lh_frontal_mask = np.load(os.path.join(mask_output_dir, 'lh.lPFC.sub0{}.npy'.format(curr_sub)))\n",
    "    rh_frontal_mask = np.load(os.path.join(mask_output_dir, 'rh.lPFC.sub0{}.npy'.format(curr_sub)))\n",
    "\n",
    "    # Calculate connectivity profiles\n",
    "    sampled_conn_profs = []\n",
    "    sampled_conn_profs_norm = []\n",
    "    for curr_ses in sampled_ses:\n",
    "        #print(curr_ses)\n",
    "        lh_rs_dir = os.path.join(rs_dir,\n",
    "                                'subj0{}'.format(curr_sub),\n",
    "                                'lh.session{}_run1.npy'.format(curr_ses))\n",
    "        rh_rs_dir = os.path.join(rs_dir,\n",
    "                                'subj0{}'.format(curr_sub),\n",
    "                                'rh.session{}_run1.npy'.format(curr_ses))\n",
    "        lh_ts = np.load(lh_rs_dir)\n",
    "        rh_ts = np.load(rh_rs_dir)\n",
    "\n",
    "        visual_ts = np.zeros((len(visual_rois), lh_ts.shape[1]))\n",
    "\n",
    "        # Extract timeseries from the visual ROIs\n",
    "        \n",
    "        for curr_key_ind, curr_key in enumerate(visual_rois.keys()):\n",
    "            if curr_key[:2] == 'lh':\n",
    "                curr_roi_ts = np.mean(lh_ts[visual_rois[curr_key], :], axis=0)\n",
    "            elif curr_key[:2] == 'rh':\n",
    "                curr_roi_ts = np.mean(rh_ts[visual_rois[curr_key], :], axis=0)\n",
    "            visual_ts[curr_key_ind, :] = curr_roi_ts\n",
    "\n",
    "        # Extract timeseries from the frontal ROIs\n",
    "        lh_frontal_ts = lh_ts[lh_frontal_mask, :]\n",
    "        rh_frontal_ts = rh_ts[rh_frontal_mask, :]\n",
    "\n",
    "        both_hemi_ts = np.vstack((lh_frontal_ts, rh_frontal_ts))\n",
    "        both_hemi_conn = compute_correlation(both_hemi_ts, visual_ts)\n",
    "        both_hemi_conn_norm = stats.zscore(np.arctanh(both_hemi_conn))\n",
    "        sampled_conn_profs.append(both_hemi_conn)\n",
    "        sampled_conn_profs_norm.append(both_hemi_conn_norm)\n",
    "        \n",
    "    # Compute the averge connectivity mat\n",
    "    for count in range(len(sampled_conn_profs)):\n",
    "        if count == 0:\n",
    "            mean_train_conn = sampled_conn_profs[count]\n",
    "            mean_train_conn_norm = sampled_conn_profs_norm[count]\n",
    "        else:\n",
    "            mean_train_conn = mean_train_conn + sampled_conn_profs[count]\n",
    "            mean_train_conn_norm = mean_train_conn_norm + sampled_conn_profs_norm[count]\n",
    "            \n",
    "    mean_train_conn = mean_train_conn / len(sampled_conn_profs)\n",
    "    mean_train_conn_norm = mean_train_conn_norm / len(sampled_conn_profs)\n",
    "\n",
    "    \n",
    "    sub_labels = curr_sub*np.ones((mean_train_conn.shape[0],1))\n",
    "    \n",
    "    all_subs_mean_conn.append(mean_train_conn)\n",
    "    all_subs_mean_conn_norm.append(mean_train_conn_norm)\n",
    "    \n",
    "    sub_lookup = sub_lookup + [sub_labels]\n",
    "    \n",
    "    lh_hemi_label = np.ones((lh_frontal_ts.shape[0], 1))\n",
    "    rh_hemi_label = 2*np.ones((rh_frontal_ts.shape[0], 1))\n",
    "    both_hemi_label = np.vstack((lh_hemi_label, rh_hemi_label))\n",
    "    hemi_labels.append(both_hemi_label)\n",
    "    verts_labels.append(np.array(range(mean_train_conn.shape[0])))"
   ]
  },
  {
   "cell_type": "code",
   "execution_count": 3,
   "id": "11928709-0ca6-4825-9b69-d67933a8e941",
   "metadata": {},
   "outputs": [],
   "source": [
    "for ind, k in enumerate(sub_lookup):\n",
    "    if ind == 0:\n",
    "        sub_label_array = k\n",
    "    else:\n",
    "        sub_label_array = np.vstack((sub_label_array, k))\n",
    "        \n",
    "for ind, k in enumerate(hemi_labels):\n",
    "    if ind == 0:\n",
    "        hemi_label_array = k\n",
    "    else:\n",
    "        hemi_label_array = np.vstack((hemi_label_array, k))\n",
    "        \n",
    "for ind, k in enumerate(verts_labels):\n",
    "    if ind == 0:\n",
    "        vert_label_array = np.expand_dims(k, axis=-1)\n",
    "    else:\n",
    "        vert_label_array = np.vstack((vert_label_array, np.expand_dims(k, axis=-1)))\n",
    "\n",
    "for count, curr_sub_conn in enumerate(all_subs_mean_conn):\n",
    "    if count == 0:\n",
    "        mega_sub_conn = curr_sub_conn\n",
    "    else:\n",
    "        mega_sub_conn = np.vstack((mega_sub_conn, curr_sub_conn))\n",
    "\n",
    "for count, curr_sub_conn_norm in enumerate(all_subs_mean_conn_norm):\n",
    "    if count == 0:\n",
    "        mega_sub_conn_norm = curr_sub_conn_norm\n",
    "    else:\n",
    "        mega_sub_conn_norm = np.vstack((mega_sub_conn_norm, curr_sub_conn_norm))"
   ]
  },
  {
   "cell_type": "code",
   "execution_count": 4,
   "id": "9fa54dd8-fde2-436c-a861-10c58d8e0a50",
   "metadata": {},
   "outputs": [],
   "source": [
    "conn_df = pd.DataFrame(np.mean(mega_sub_conn, axis=1),\n",
    "                      columns=['Conn'])\n",
    "conn_df['SUB'] = sub_label_array.squeeze()\n",
    "conn_df['VERTEX'] = vert_label_array.squeeze()"
   ]
  },
  {
   "cell_type": "code",
   "execution_count": 5,
   "id": "dc689725-b5bb-40d7-887c-bfcce9a64c2f",
   "metadata": {},
   "outputs": [],
   "source": [
    "lPFC_results_dir = os.path.join(NSD_top_dir, 'results', 'CV_results_CLIP')\n",
    "output_fig_dir = os.path.join(NSD_top_dir, 'figures', 'Manuscript')\n",
    "for curr_sub in sub_list:\n",
    "    curr_sub_df_dir = os.path.join(lPFC_results_dir, 'sub0{}_img_GS_norm.csv'.format(curr_sub))\n",
    "    curr_sub_df = pd.read_csv(curr_sub_df_dir, header=None, names=['SUB', 'VERTEX', 'CV-r', 'best alpha'])\n",
    "    if curr_sub == 1:\n",
    "        summary_df = curr_sub_df\n",
    "    else:\n",
    "        summary_df = pd.concat([summary_df, curr_sub_df]).reset_index(drop=True)"
   ]
  },
  {
   "cell_type": "code",
   "execution_count": 6,
   "id": "5087251a-9421-4154-8968-8caff6d233f7",
   "metadata": {},
   "outputs": [],
   "source": [
    "filtered_summary_df = summary_df[summary_df['CV-r']>0.1]"
   ]
  },
  {
   "cell_type": "code",
   "execution_count": 7,
   "id": "92ac1668-b7d8-4875-876b-6ad5c8a0e50c",
   "metadata": {},
   "outputs": [],
   "source": [
    "def group_and_count_verts(mask_vect):\n",
    "    _df = pd.DataFrame(mask_vect, columns=['roi_ind'])\n",
    "    _df['count'] = 0\n",
    "    count_df = _df.groupby(by='roi_ind')['count'].count().reset_index()\n",
    "    return count_df"
   ]
  },
  {
   "cell_type": "code",
   "execution_count": 8,
   "id": "ac2691aa-94fe-4ec5-91a5-46a85e4d969e",
   "metadata": {},
   "outputs": [],
   "source": [
    "def generate_bin_mask(lh_mask, rh_mask, rs_df, variable):\n",
    "    # Separate the dataframe in to left and righ hemispheres\n",
    "    lh_rs_df = rs_df[rs_df['VERTEX']<np.sum(lh_mask)]\n",
    "    rh_rs_df = rs_df[rs_df['VERTEX']>=np.sum(lh_mask)]\n",
    "    rh_rs_df['VERTEX'] = rh_rs_df['VERTEX']-np.sum(lh_mask)\n",
    "    \n",
    "    # Fill the values into the masks\n",
    "    lh_mask_nozero = np.where(lh_mask)\n",
    "    lh_mask_thresh = np.zeros(lh_mask.shape)\n",
    "    lh_mask_thresh[:] = np.nan\n",
    "    lh_mask_thresh[lh_mask_nozero[0][lh_rs_df['VERTEX'].values]] = lh_rs_df[variable].values>0\n",
    "\n",
    "    rh_mask_nozero = np.where(rh_mask)\n",
    "    rh_mask_thresh = np.zeros(rh_mask.shape)\n",
    "    rh_mask_thresh[:] = np.nan\n",
    "    rh_mask_thresh[rh_mask_nozero[0][rh_rs_df['VERTEX'].values]] = rh_rs_df[variable].values>0\n",
    "    \n",
    "    return lh_mask_thresh.astype('>f4'), rh_mask_thresh.astype('>f4')"
   ]
  },
  {
   "cell_type": "code",
   "execution_count": 9,
   "id": "ef660eca-661f-46a7-826c-ce945e68b4ca",
   "metadata": {
    "tags": []
   },
   "outputs": [
    {
     "name": "stderr",
     "output_type": "stream",
     "text": [
      "/lustre/home/qilin1/miniforge3/envs/GenPFC_mini/lib/python3.7/site-packages/ipykernel_launcher.py:5: SettingWithCopyWarning: \n",
      "A value is trying to be set on a copy of a slice from a DataFrame.\n",
      "Try using .loc[row_indexer,col_indexer] = value instead\n",
      "\n",
      "See the caveats in the documentation: https://pandas.pydata.org/pandas-docs/stable/user_guide/indexing.html#returning-a-view-versus-a-copy\n",
      "  \"\"\"\n"
     ]
    }
   ],
   "source": [
    "list_rois = [10, 11, 12] + list(range(67, 91)) + [96, 97, 98] +[170, 171]\n",
    "for curr_sub in sub_list:\n",
    "    curr_sub_df = filtered_summary_df[filtered_summary_df['SUB']==curr_sub]\n",
    "    \n",
    "    \n",
    "    native_dir = os.path.join(NSD_top_dir,\n",
    "                              'data',\n",
    "                                   'nsddata', \n",
    "                                   'freesurfer', \n",
    "                                   'subj0{}'.format(curr_sub))\n",
    "    HCP_MMP_rois_label = pd.read_csv(os.path.join(native_dir,\n",
    "                                             'label',\n",
    "                                             'HCP_MMP1.mgz.ctab'),\n",
    "                                sep=' ', skiprows=1,\n",
    "                                 names=['index', 'label'])\n",
    "    list_rois_names = [HCP_MMP_rois_label['label'].values[k-1] for k in list_rois]\n",
    "    roi_dict = {list_rois[i]: list_rois_names[i] for i in range(len(list_rois))}\n",
    "    \n",
    "    \n",
    "    lh_HCP_MMP_dir = os.path.join(native_dir,\n",
    "                         'label',\n",
    "                         'lh.HCP_MMP1.mgz')\n",
    "    lh_HCP_MMP = nib.load(lh_HCP_MMP_dir).get_fdata().squeeze()\n",
    "    lh_lPFC_mask = np.load(os.path.join(mask_output_dir, 'lh.lPFC.sub0{}.npy'.format(curr_sub)))\n",
    "    \n",
    "    rh_HCP_MMP_dir = os.path.join(native_dir,\n",
    "                         'label',\n",
    "                         'rh.HCP_MMP1.mgz')\n",
    "    rh_HCP_MMP = nib.load(rh_HCP_MMP_dir).get_fdata().squeeze()\n",
    "    rh_lPFC_mask = np.load(os.path.join(mask_output_dir, 'rh.lPFC.sub0{}.npy'.format(curr_sub)))\n",
    "    \n",
    "    # Make binary masks\n",
    "    lh_bin_lPFC, rh_bin_lPFC = generate_bin_mask(lh_lPFC_mask, rh_lPFC_mask, curr_sub_df, 'CV-r')\n",
    "    \n",
    "    # Mask the Glasser atlas with the predictablity mask\n",
    "    lh_pred_patches = lh_bin_lPFC*lh_HCP_MMP \n",
    "    rh_pred_patches = rh_bin_lPFC*rh_HCP_MMP\n",
    "    \n",
    "    # Make dfs \n",
    "    HCP_MMP_count = group_and_count_verts(np.hstack((lh_HCP_MMP, rh_HCP_MMP)))\n",
    "    pred_patches_count = group_and_count_verts(np.hstack((lh_pred_patches, rh_pred_patches))).rename(columns={'count': 'pred_count'})\n",
    "    merge_df = HCP_MMP_count.merge(pred_patches_count)\n",
    "    merge_df['SUB'] = curr_sub\n",
    "    merge_df['roi_names'] = merge_df['roi_ind'].map(roi_dict)\n",
    "    \n",
    "    # Find out which parcels have > 10% predictable vertices, we want to keep those\n",
    "    merge_df['prop'] = merge_df['pred_count']/merge_df['count']\n",
    "    pred_parcels = merge_df[merge_df['prop']>0.1]['roi_ind'].unique()\n",
    "    \n",
    "    lh_lPFC_all = lh_HCP_MMP[lh_lPFC_mask]\n",
    "    rh_lPFC_all = rh_HCP_MMP[rh_lPFC_mask]\n",
    "    \n",
    "    lh_verts_num = np.sum(lh_lPFC_mask)\n",
    "    lh_keep_verts = np.where(np.isin(lh_lPFC_all, pred_parcels))\n",
    "    rh_keep_verts = np.where(np.isin(rh_lPFC_all, pred_parcels))+lh_verts_num\n",
    "    curr_pred_parcels_verts = pd.DataFrame(np.hstack((lh_keep_verts[0],\n",
    "                                                     rh_keep_verts[0])), columns=['VERTEX'])\n",
    "    curr_pred_parcels_verts['SUB'] = curr_sub\n",
    "    \n",
    "    \n",
    "    if curr_sub == 1:\n",
    "        pred_parcels_verts = curr_pred_parcels_verts\n",
    "    else:\n",
    "        pred_parcels_verts = pd.concat([pred_parcels_verts, curr_pred_parcels_verts]).reset_index(drop=True)"
   ]
  },
  {
   "cell_type": "code",
   "execution_count": 10,
   "id": "780c99aa-a1a3-4b64-9791-4f0d1b8ef9aa",
   "metadata": {},
   "outputs": [],
   "source": [
    "conn_df_w_pred_parcels = conn_df.merge(pred_parcels_verts)"
   ]
  },
  {
   "cell_type": "code",
   "execution_count": 11,
   "id": "8f096aaa-2722-4cea-8377-13eda180b047",
   "metadata": {},
   "outputs": [],
   "source": [
    "conn_df_w_pred_parcels_CVr = conn_df_w_pred_parcels.merge(filtered_summary_df,\n",
    "                                                          how='left',\n",
    "                                                         on=['SUB','VERTEX'])"
   ]
  },
  {
   "cell_type": "code",
   "execution_count": 12,
   "id": "5bca6a43-b3fe-4473-90d3-29cf7a093ef0",
   "metadata": {},
   "outputs": [],
   "source": [
    "conn_df_w_pred_parcels_CVr['Predictable?'] = ''\n",
    "conn_df_w_pred_parcels_CVr.loc[conn_df_w_pred_parcels_CVr['CV-r'].isna(),\n",
    "                            'Predictable?'] = 'No'\n",
    "conn_df_w_pred_parcels_CVr.loc[~conn_df_w_pred_parcels_CVr['CV-r'].isna(),\n",
    "                            'Predictable?'] = 'Yes'"
   ]
  },
  {
   "cell_type": "code",
   "execution_count": 13,
   "id": "76d9a1eb-9c1d-4567-812d-cb6e99c34f0e",
   "metadata": {},
   "outputs": [],
   "source": [
    "grouped_df = conn_df_w_pred_parcels_CVr.groupby(by=['SUB', 'Predictable?'])['Conn'].mean().reset_index()"
   ]
  },
  {
   "cell_type": "code",
   "execution_count": 14,
   "id": "5b7485dc-a955-4ffc-8e32-f2caa5d018f8",
   "metadata": {},
   "outputs": [],
   "source": [
    "grouped_df_yes = grouped_df[grouped_df['Predictable?']=='Yes']\n",
    "grouped_df_no = grouped_df[grouped_df['Predictable?']=='No']"
   ]
  },
  {
   "cell_type": "code",
   "execution_count": 15,
   "id": "59b2a686-6f3a-4c73-b027-de2005453482",
   "metadata": {},
   "outputs": [],
   "source": [
    "merged_df = grouped_df_yes.merge(grouped_df_no, on='SUB')"
   ]
  },
  {
   "cell_type": "code",
   "execution_count": 16,
   "id": "2a360cfb-6d1f-43f4-a4d0-d891127e2133",
   "metadata": {},
   "outputs": [
    {
     "data": {
      "text/html": [
       "<div>\n",
       "<style scoped>\n",
       "    .dataframe tbody tr th:only-of-type {\n",
       "        vertical-align: middle;\n",
       "    }\n",
       "\n",
       "    .dataframe tbody tr th {\n",
       "        vertical-align: top;\n",
       "    }\n",
       "\n",
       "    .dataframe thead th {\n",
       "        text-align: right;\n",
       "    }\n",
       "</style>\n",
       "<table border=\"1\" class=\"dataframe\">\n",
       "  <thead>\n",
       "    <tr style=\"text-align: right;\">\n",
       "      <th></th>\n",
       "      <th>SUB</th>\n",
       "      <th>Predictable?_x</th>\n",
       "      <th>Conn_x</th>\n",
       "      <th>Predictable?_y</th>\n",
       "      <th>Conn_y</th>\n",
       "    </tr>\n",
       "  </thead>\n",
       "  <tbody>\n",
       "    <tr>\n",
       "      <th>0</th>\n",
       "      <td>1.0</td>\n",
       "      <td>Yes</td>\n",
       "      <td>0.021978</td>\n",
       "      <td>No</td>\n",
       "      <td>-0.018723</td>\n",
       "    </tr>\n",
       "    <tr>\n",
       "      <th>1</th>\n",
       "      <td>2.0</td>\n",
       "      <td>Yes</td>\n",
       "      <td>0.026716</td>\n",
       "      <td>No</td>\n",
       "      <td>-0.032101</td>\n",
       "    </tr>\n",
       "    <tr>\n",
       "      <th>2</th>\n",
       "      <td>3.0</td>\n",
       "      <td>Yes</td>\n",
       "      <td>0.104062</td>\n",
       "      <td>No</td>\n",
       "      <td>-0.018501</td>\n",
       "    </tr>\n",
       "    <tr>\n",
       "      <th>3</th>\n",
       "      <td>4.0</td>\n",
       "      <td>Yes</td>\n",
       "      <td>0.071217</td>\n",
       "      <td>No</td>\n",
       "      <td>-0.007834</td>\n",
       "    </tr>\n",
       "    <tr>\n",
       "      <th>4</th>\n",
       "      <td>5.0</td>\n",
       "      <td>Yes</td>\n",
       "      <td>0.078264</td>\n",
       "      <td>No</td>\n",
       "      <td>-0.026333</td>\n",
       "    </tr>\n",
       "    <tr>\n",
       "      <th>5</th>\n",
       "      <td>6.0</td>\n",
       "      <td>Yes</td>\n",
       "      <td>0.096214</td>\n",
       "      <td>No</td>\n",
       "      <td>-0.029450</td>\n",
       "    </tr>\n",
       "    <tr>\n",
       "      <th>6</th>\n",
       "      <td>7.0</td>\n",
       "      <td>Yes</td>\n",
       "      <td>0.092528</td>\n",
       "      <td>No</td>\n",
       "      <td>-0.033474</td>\n",
       "    </tr>\n",
       "    <tr>\n",
       "      <th>7</th>\n",
       "      <td>8.0</td>\n",
       "      <td>Yes</td>\n",
       "      <td>0.164812</td>\n",
       "      <td>No</td>\n",
       "      <td>0.021195</td>\n",
       "    </tr>\n",
       "  </tbody>\n",
       "</table>\n",
       "</div>"
      ],
      "text/plain": [
       "   SUB Predictable?_x    Conn_x Predictable?_y    Conn_y\n",
       "0  1.0            Yes  0.021978             No -0.018723\n",
       "1  2.0            Yes  0.026716             No -0.032101\n",
       "2  3.0            Yes  0.104062             No -0.018501\n",
       "3  4.0            Yes  0.071217             No -0.007834\n",
       "4  5.0            Yes  0.078264             No -0.026333\n",
       "5  6.0            Yes  0.096214             No -0.029450\n",
       "6  7.0            Yes  0.092528             No -0.033474\n",
       "7  8.0            Yes  0.164812             No  0.021195"
      ]
     },
     "execution_count": 16,
     "metadata": {},
     "output_type": "execute_result"
    }
   ],
   "source": [
    "merged_df"
   ]
  },
  {
   "cell_type": "code",
   "execution_count": 17,
   "id": "b6138ada-05c6-490c-90d0-4d6fb61a5a94",
   "metadata": {},
   "outputs": [
    {
     "name": "stderr",
     "output_type": "stream",
     "text": [
      "/lustre/home/qilin1/miniforge3/envs/GenPFC_mini/lib/python3.7/site-packages/scipy/stats/morestats.py:3155: UserWarning: Sample size too small for normal approximation.\n",
      "  warnings.warn(\"Sample size too small for normal approximation.\")\n"
     ]
    },
    {
     "data": {
      "text/plain": [
       "WilcoxonResult(statistic=0.0, pvalue=0.011718685599768628)"
      ]
     },
     "execution_count": 17,
     "metadata": {},
     "output_type": "execute_result"
    }
   ],
   "source": [
    "stats.wilcoxon(merged_df['Conn_x'], merged_df['Conn_y'], mode='approx')"
   ]
  },
  {
   "cell_type": "code",
   "execution_count": 29,
   "id": "91b66bd3-e693-4cd5-bca1-e21e09be2c75",
   "metadata": {},
   "outputs": [
    {
     "name": "stdout",
     "output_type": "stream",
     "text": [
      "Predictable vertices: mean = 0.08, sd = 0.05\n"
     ]
    }
   ],
   "source": [
    "print('Predictable vertices: mean = {}, sd = {}'.format(str(merged_df['Conn_x'].mean().round(2)),\n",
    "                                                     str(merged_df['Conn_x'].std().round(2))))"
   ]
  },
  {
   "cell_type": "code",
   "execution_count": 31,
   "id": "396543a6-49f7-482d-8afa-d6aa4d217464",
   "metadata": {},
   "outputs": [
    {
     "name": "stdout",
     "output_type": "stream",
     "text": [
      "Non-predictable vertices: mean = -0.02, sd = 0.02\n"
     ]
    }
   ],
   "source": [
    "print('Non-predictable vertices: mean = {}, sd = {}'.format(str(merged_df['Conn_y'].mean().round(2)),\n",
    "                                                     str(merged_df['Conn_y'].std().round(2))))"
   ]
  },
  {
   "cell_type": "code",
   "execution_count": 18,
   "id": "8d0b01cb-011a-4fd9-b64e-feb142140e69",
   "metadata": {},
   "outputs": [],
   "source": [
    "conn_df_w_pred_parcels_CVr['SUB'] = conn_df_w_pred_parcels_CVr['SUB'].astype(int)"
   ]
  },
  {
   "cell_type": "code",
   "execution_count": 19,
   "id": "9da1042b-5cf6-4769-8694-b0f52642cabf",
   "metadata": {},
   "outputs": [
    {
     "data": {
      "image/png": "[encoded data removed]",
      "text/plain": [
       "<Figure size 300x500 with 1 Axes>"
      ]
     },
     "metadata": {},
     "output_type": "display_data"
    }
   ],
   "source": [
    "plt.figure(figsize=(3,5))\n",
    "sns.set(font_scale=1.5)\n",
    "sns.set_style('white')\n",
    "\n",
    "ax=sns.pointplot(x='Predictable?', y ='Conn', hue='SUB', errorbar='sd', dodge=True,\n",
    "                 errwidth=1,\n",
    "                palette='rocket',\n",
    "              data=conn_df_w_pred_parcels_CVr)\n",
    "sns.despine(top=True, right=True)\n",
    "plt.ylabel('Resting-state connectivity')\n",
    "sns.move_legend(ax, \"upper left\", bbox_to_anchor=(1, 1))\n",
    "plt.savefig(os.path.join(output_fig_dir, 'RS_connectivity.pdf'), dpi=50)"
   ]
  },
  {
   "cell_type": "code",
   "execution_count": 20,
   "id": "a11b7e13-b4be-4a06-9f81-ccb7942e59c5",
   "metadata": {},
   "outputs": [],
   "source": [
    "def generate_r_mask(lh_mask, rh_mask, rs_df, variable):\n",
    "    # Separate the dataframe in to left and righ hemispheres\n",
    "    lh_rs_df = rs_df[rs_df['VERTEX']<np.sum(lh_mask)]\n",
    "    rh_rs_df = rs_df[rs_df['VERTEX']>=np.sum(lh_mask)]\n",
    "    rh_rs_df['VERTEX'] = rh_rs_df['VERTEX']-np.sum(lh_mask)\n",
    "    \n",
    "    # Fill the values into the masks\n",
    "    lh_mask_nozero = np.where(lh_mask)\n",
    "    lh_mask_thresh = np.zeros(lh_mask.shape)\n",
    "    lh_mask_thresh[:] = np.nan\n",
    "    lh_mask_thresh[lh_mask_nozero[0][lh_rs_df['VERTEX'].values]] = lh_rs_df[variable].values\n",
    "\n",
    "    rh_mask_nozero = np.where(rh_mask)\n",
    "    rh_mask_thresh = np.zeros(rh_mask.shape)\n",
    "    rh_mask_thresh[:] = np.nan\n",
    "    rh_mask_thresh[rh_mask_nozero[0][rh_rs_df['VERTEX'].values]] = rh_rs_df[variable].values\n",
    "    \n",
    "    return lh_mask_thresh.astype('>f4'), rh_mask_thresh.astype('>f4')"
   ]
  },
  {
   "cell_type": "code",
   "execution_count": 21,
   "id": "b5806657-9674-47f8-87f4-6f46adad6f08",
   "metadata": {},
   "outputs": [
    {
     "name": "stdout",
     "output_type": "stream",
     "text": [
      "Current subject:1\n",
      "Number of frontal vertices in lh: 41584\n",
      "Number of frontal vertices in rh: 41844\n",
      "Number of frontal vertices in total: 83428\n"
     ]
    },
    {
     "name": "stderr",
     "output_type": "stream",
     "text": [
      "/lustre/home/qilin1/miniforge3/envs/GenPFC_mini/lib/python3.7/site-packages/ipykernel_launcher.py:5: SettingWithCopyWarning: \n",
      "A value is trying to be set on a copy of a slice from a DataFrame.\n",
      "Try using .loc[row_indexer,col_indexer] = value instead\n",
      "\n",
      "See the caveats in the documentation: https://pandas.pydata.org/pandas-docs/stable/user_guide/indexing.html#returning-a-view-versus-a-copy\n",
      "  \"\"\"\n"
     ]
    },
    {
     "name": "stdout",
     "output_type": "stream",
     "text": [
      "Current subject:2\n",
      "Number of frontal vertices in lh: 45459\n",
      "Number of frontal vertices in rh: 46301\n",
      "Number of frontal vertices in total: 91760\n",
      "Current subject:3\n",
      "Number of frontal vertices in lh: 43519\n",
      "Number of frontal vertices in rh: 43478\n",
      "Number of frontal vertices in total: 86997\n",
      "Current subject:4\n",
      "Number of frontal vertices in lh: 40518\n",
      "Number of frontal vertices in rh: 39672\n",
      "Number of frontal vertices in total: 80190\n",
      "Current subject:5\n",
      "Number of frontal vertices in lh: 34351\n",
      "Number of frontal vertices in rh: 35400\n",
      "Number of frontal vertices in total: 69751\n",
      "Current subject:6\n",
      "Number of frontal vertices in lh: 46528\n",
      "Number of frontal vertices in rh: 46853\n",
      "Number of frontal vertices in total: 93381\n",
      "Current subject:7\n",
      "Number of frontal vertices in lh: 35599\n",
      "Number of frontal vertices in rh: 36079\n",
      "Number of frontal vertices in total: 71678\n",
      "Current subject:8\n",
      "Number of frontal vertices in lh: 41577\n",
      "Number of frontal vertices in rh: 43020\n",
      "Number of frontal vertices in total: 84597\n"
     ]
    }
   ],
   "source": [
    "vmax_curr_layer = conn_df_w_pred_parcels_CVr['Conn'].max()\n",
    "for curr_sub in sub_list:\n",
    "    print('Current subject:{}'.format(curr_sub))\n",
    "    # Put the r values back to the brain\n",
    "    lh_frontal_mask = np.load(os.path.join(mask_output_dir, 'lh.lPFC.sub0{}.npy'.format(curr_sub)))\n",
    "    rh_frontal_mask = np.load(os.path.join(mask_output_dir, 'rh.lPFC.sub0{}.npy'.format(curr_sub)))\n",
    "    print('Number of frontal vertices in lh: {}'.format(np.sum(lh_frontal_mask)))\n",
    "    print('Number of frontal vertices in rh: {}'.format(np.sum(rh_frontal_mask)))\n",
    "    print('Number of frontal vertices in total: {}'.format(np.sum(lh_frontal_mask)+np.sum(rh_frontal_mask)))\n",
    "    \n",
    "    native_surf_dir = os.path.join(NSD_top_dir,\n",
    "                                   'data',\n",
    "                               'nsddata', \n",
    "                               'freesurfer', \n",
    "                               'subj0{}'.format(curr_sub),\n",
    "                              'surf')\n",
    "    infl_right_dir = os.path.join(native_surf_dir, 'rh.inflated')\n",
    "    sulc_right_dir = os.path.join(native_surf_dir, 'rh.sulc')\n",
    "    infl_left_dir = os.path.join(native_surf_dir, 'lh.inflated')\n",
    "    sulc_left_dir = os.path.join(native_surf_dir, 'lh.sulc')\n",
    "    \n",
    "    # Plot lPFC outline as contour\n",
    "    lh_frontal_contour = os.path.join(mask_output_dir, 'lh.lPFC.sub0{}.annot'.format(curr_sub))\n",
    "    rh_frontal_contour = os.path.join(mask_output_dir, 'rh.lPFC.sub0{}.annot'.format(curr_sub))\n",
    "    lh_frontal_lPFC = surface.load_surf_data(lh_frontal_contour)\n",
    "    rh_frontal_lPFC = surface.load_surf_data(rh_frontal_contour)\n",
    "    \n",
    "    curr_sub_lh_rs_mask_1, curr_sub_rh_rs_mask_1 = generate_r_mask(lh_frontal_mask,\n",
    "                                                              rh_frontal_mask,\n",
    "                                                              conn_df_w_pred_parcels_CVr[conn_df_w_pred_parcels_CVr['SUB']==curr_sub],\n",
    "                                                              'Conn')\n",
    "\n",
    "    fig = plotting.plot_surf_stat_map(\n",
    "        infl_right_dir, curr_sub_rh_rs_mask_1, hemi='right',\n",
    "        title='Subj0{} (right)'.format(curr_sub), colorbar=True, vmax=vmax_curr_layer,\n",
    "        bg_map=sulc_right_dir, threshold=0, #cmap='plasma',\n",
    "    )\n",
    "    levels = [1]\n",
    "    labels = ['lPFC']\n",
    "    \n",
    "    plotting.plot_surf_contours(\n",
    "        infl_right_dir, rh_frontal_contour, hemi='right',\n",
    "        labels=labels, levels=levels,\n",
    "        bg_map=sulc_right_dir, figure=fig,\n",
    "        colors=['purple'],\n",
    "        output_file=os.path.join(output_fig_dir, 'sub0{}_wlPFC_rh_conn.png'.format(curr_sub))\n",
    "    )\n",
    "\n",
    "    \n",
    "    fig.show()\n",
    "    \n",
    "    \n",
    "    fig = plotting.plot_surf_stat_map(\n",
    "    infl_left_dir, curr_sub_lh_rs_mask_1, hemi='left',\n",
    "    title='Subj0{} (left)'.format(curr_sub), colorbar=True, vmax=vmax_curr_layer,\n",
    "    bg_map=sulc_left_dir, threshold=0,#cmap='plasma',\n",
    "    )\n",
    "    \n",
    "    plotting.plot_surf_contours(\n",
    "        infl_left_dir, lh_frontal_contour, hemi='left',\n",
    "        labels=labels, levels=levels,\n",
    "        bg_map=sulc_left_dir, figure=fig,\n",
    "        colors=['purple'],\n",
    "        output_file=os.path.join(output_fig_dir, 'sub0{}_wlPFC_lh_conn.png'.format(curr_sub))\n",
    "    )\n",
    "    fig.show()\n",
    "    "
   ]
  }
 ],
 "metadata": {
  "kernelspec": {
   "display_name": "Python 3 (ipykernel)",
   "language": "python",
   "name": "python3"
  },
  "language_info": {
   "codemirror_mode": {
    "name": "ipython",
    "version": 3
   },
   "file_extension": ".py",
   "mimetype": "text/x-python",
   "name": "python",
   "nbconvert_exporter": "python",
   "pygments_lexer": "ipython3",
   "version": "3.7.12"
  }
 },
 "nbformat": 4,
 "nbformat_minor": 5
}
